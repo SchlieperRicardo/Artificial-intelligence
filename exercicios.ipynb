{
  "nbformat": 4,
  "nbformat_minor": 0,
  "metadata": {
    "colab": {
      "provenance": [],
      "authorship_tag": "ABX9TyNZl0YbMcyjHB7Z4peo0tEn",
      "include_colab_link": true
    },
    "kernelspec": {
      "name": "python3",
      "display_name": "Python 3"
    },
    "language_info": {
      "name": "python"
    }
  },
  "cells": [
    {
      "cell_type": "markdown",
      "metadata": {
        "id": "view-in-github",
        "colab_type": "text"
      },
      "source": [
        "<a href=\"https://colab.research.google.com/github/SchlieperRicardo/Artificial-intelligence/blob/main/exercicios.ipynb\" target=\"_parent\"><img src=\"https://colab.research.google.com/assets/colab-badge.svg\" alt=\"Open In Colab\"/></a>"
      ]
    },
    {
      "cell_type": "markdown",
      "source": [
        "Implemente um algoritmo de busca para o problema do mundo do aspirador, mas neste caso, prevendo três salas a serem aspiradas. Utilize uma estratégia que evite ciclos durante o processo de busca.\n"
      ],
      "metadata": {
        "id": "dzK2ULwhUuok"
      }
    },
    {
      "cell_type": "code",
      "source": [
        "from collections import deque\n",
        "\n",
        "def get_successors(state):\n",
        "    location, s1, s2, s3 = state\n",
        "    successors = []\n",
        "\n",
        "    # Ação de aspirar se a sala atual estiver suja\n",
        "    if location == 'sala1' and s1 == 1:\n",
        "        successors.append((location, 0, s2, s3))\n",
        "    elif location == 'sala2' and s2 == 1:\n",
        "        successors.append((location, s1, 0, s3))\n",
        "    elif location == 'sala3' and s3 == 1:\n",
        "        successors.append((location, s1, s2, 0))\n",
        "\n",
        "    # Ações de movimentação entre salas\n",
        "    if location == 'sala1':\n",
        "        successors.append(('sala2', s1, s2, s3))\n",
        "    elif location == 'sala2':\n",
        "        successors.append(('sala1', s1, s2, s3))\n",
        "        successors.append(('sala3', s1, s2, s3))\n",
        "    elif location == 'sala3':\n",
        "        successors.append(('sala2', s1, s2, s3))\n",
        "\n",
        "    return successors\n",
        "\n",
        "def busca_largura(inicial):\n",
        "    fila = deque([(inicial, [])])  # Estado inicial e caminho percorrido\n",
        "    visitados = set()\n",
        "\n",
        "    while fila:\n",
        "        estado, caminho = fila.popleft()\n",
        "\n",
        "        if (estado[1], estado[2], estado[3]) == (0, 0, 0):  # Todas as salas limpas\n",
        "            return caminho + [estado]\n",
        "\n",
        "        if estado not in visitados:\n",
        "            visitados.add(estado)\n",
        "\n",
        "            for successor in get_successors(estado):\n",
        "                fila.append((successor, caminho + [estado]))\n",
        "\n",
        "    return None\n",
        "\n",
        "# Testando o algoritmo\n",
        "estado_inicial = ('sala1', 1, 1, 1)  # O aspirador começa na sala1 e todas as salas estão sujas\n",
        "solucao = busca_largura(estado_inicial)\n",
        "\n",
        "if solucao:\n",
        "    for passo, estado in enumerate(solucao):\n",
        "        print(f\"Passo {passo}: {estado}\")\n",
        "else:\n",
        "    print(\"Nenhuma solução encontrada.\")"
      ],
      "metadata": {
        "id": "GYbyj4YVUzfU",
        "colab": {
          "base_uri": "https://localhost:8080/"
        },
        "outputId": "e76ce3ac-0bae-4d60-8a2e-8d94d5cdcf07"
      },
      "execution_count": null,
      "outputs": [
        {
          "output_type": "stream",
          "name": "stdout",
          "text": [
            "Passo 0: ('sala1', 1, 1, 1)\n",
            "Passo 1: ('sala1', 0, 1, 1)\n",
            "Passo 2: ('sala2', 0, 1, 1)\n",
            "Passo 3: ('sala2', 0, 0, 1)\n",
            "Passo 4: ('sala3', 0, 0, 1)\n",
            "Passo 5: ('sala3', 0, 0, 0)\n"
          ]
        }
      ]
    },
    {
      "cell_type": "markdown",
      "source": [
        "Implemente um algoritmo de busca para problema dos jarros. O problema envolve por dois jarros com capacidades de 3 e 4 litros, respectivamente. Sabendo-se que podemos encher, esvaziar ou transferir água de um jarro para outro, encontre uma sequência de passos que deixe o jarro de 4 litros com exatamente 2 litros de água. Utilize uma estratégia que evite ciclos durante o processo de busca."
      ],
      "metadata": {
        "id": "oPpHMfY7WSLq"
      }
    },
    {
      "cell_type": "code",
      "source": [
        "from collections import deque\n",
        "\n",
        "def get_sucessors(state):\n",
        "    j3, j4 = state  # j3 representa o jarro de 3 litros, j4 o jarro de 4 litros\n",
        "    successors = set()\n",
        "\n",
        "    # Encher os jarros\n",
        "    successors.add((3, j4))  # Encher o jarro de 3 litros\n",
        "    successors.add((j3, 4))  # Encher o jarro de 4 litros\n",
        "\n",
        "    # Esvaziar os jarros\n",
        "    successors.add((0, j4))  # Esvaziar o jarro de 3 litros\n",
        "    successors.add((j3, 0))  # Esvaziar o jarro de 4 litros\n",
        "\n",
        "    # Transferir água do jarro de 3 litros para o de 4 litros\n",
        "    transf = min(j3, 4 - j4)\n",
        "    successors.add((j3 - transf, j4 + transf))\n",
        "\n",
        "    # Transferir água do jarro de 4 litros para o de 3 litros\n",
        "    transf = min(j4, 3 - j3)\n",
        "    successors.add((j3 + transf, j4 - transf))\n",
        "\n",
        "    return successors\n",
        "\n",
        "def busca_jarros():\n",
        "    estado_inicial = (0, 0)  # Ambos os jarros começam vazios\n",
        "    fila = deque([(estado_inicial, [])])  # Estado inicial e caminho percorrido\n",
        "    visitados = set()\n",
        "\n",
        "    while fila:\n",
        "        estado, caminho = fila.popleft()\n",
        "\n",
        "        if estado[1] == 2:  # Se o jarro de 4 litros contém exatamente 2 litros, terminamos\n",
        "            return caminho + [estado]\n",
        "\n",
        "        if estado not in visitados:\n",
        "            visitados.add(estado)\n",
        "\n",
        "        for successor in get_sucessors(estado):\n",
        "            fila.append((successor, caminho + [estado]))\n",
        "\n",
        "    return None\n",
        "\n",
        "# Executando o algoritmo\n",
        "tentativa = busca_jarros()\n",
        "\n",
        "if tentativa:\n",
        "    for passo, estado in enumerate(tentativa):\n",
        "        print(f\"Passo {passo}: {estado}\")\n",
        "else:\n",
        "    print(\"Nenhuma solução encontrada.\")\n"
      ],
      "metadata": {
        "id": "UbNMz0DTWx1b",
        "colab": {
          "base_uri": "https://localhost:8080/"
        },
        "outputId": "e86f5191-fbfc-4a60-ee96-7af222cbb6e3"
      },
      "execution_count": null,
      "outputs": [
        {
          "output_type": "stream",
          "name": "stdout",
          "text": [
            "Passo 0: (0, 0)\n",
            "Passo 1: (0, 4)\n",
            "Passo 2: (3, 1)\n",
            "Passo 3: (0, 1)\n",
            "Passo 4: (1, 0)\n",
            "Passo 5: (1, 4)\n",
            "Passo 6: (3, 2)\n"
          ]
        }
      ]
    },
    {
      "cell_type": "markdown",
      "source": [],
      "metadata": {
        "id": "tvlpK7knWOjz"
      }
    },
    {
      "cell_type": "markdown",
      "source": [
        "Implemente um algoritmo de busca para problema do fazendeiro, qual encontra-se na margem esquerda de um rio, levando consigo uma raposa, uma galinha e milho. O fazendeiro precisa ir a outra margem do rio com toda a sua carga intacta, mas somente dispõe de um bote com capacidade para levar apenas ele e uma carga. O fazendeiro pode cruzar o rio quantas vezes forem necessárias, mas em sua ausência a raposa pode comer a galinha ou a galinha pode comer o milho."
      ],
      "metadata": {
        "id": "w3NQn0u9YL-q"
      }
    },
    {
      "cell_type": "code",
      "source": [
        "from collections import deque\n",
        "\n",
        "def estado_valido(estado):\n",
        "    fazendeiro, raposa, galinha, milho = estado\n",
        "\n",
        "    # Se o fazendeiro não está presente, verificar se a raposa come a galinha ou a galinha come o milho\n",
        "    if (raposa == galinha and fazendeiro != galinha) or (galinha == milho and fazendeiro != milho):\n",
        "        return False\n",
        "    return True\n",
        "\n",
        "def get_successors(estado):\n",
        "    fazendeiro, raposa, galinha, milho = estado\n",
        "    sucessores = set()\n",
        "\n",
        "    # Possíveis movimentos (fazendeiro sozinho ou levando uma carga)\n",
        "    movimentos = [\n",
        "        (1 - fazendeiro, raposa, galinha, milho),  # Fazendeiro cruza sozinho\n",
        "        (1 - fazendeiro, 1 - raposa, galinha, milho) if fazendeiro == raposa else None,  # Leva a raposa\n",
        "        (1 - fazendeiro, raposa, 1 - galinha, milho) if fazendeiro == galinha else None,  # Leva a galinha\n",
        "        (1 - fazendeiro, raposa, galinha, 1 - milho) if fazendeiro == milho else None   # Leva o milho\n",
        "    ]\n",
        "\n",
        "    for novo_estado in movimentos:\n",
        "        if novo_estado and estado_valido(novo_estado):\n",
        "            sucessores.add(novo_estado)\n",
        "\n",
        "    return sucessores\n",
        "\n",
        "def busca_fazendeiro():\n",
        "    estado_inicial = (0, 0, 0, 0)  # Todos começam na margem esquerda\n",
        "    estado_objetivo = (1, 1, 1, 1)  # Todos na margem direita\n",
        "    fila = deque([(estado_inicial, [])])\n",
        "    visitados = set()\n",
        "\n",
        "    while fila:\n",
        "        estado, caminho = fila.popleft()\n",
        "\n",
        "        if estado == estado_objetivo:\n",
        "            return caminho + [estado]\n",
        "\n",
        "        if estado not in visitados:\n",
        "            visitados.add(estado)\n",
        "\n",
        "            for successor in get_successors(estado):\n",
        "                fila.append((successor, caminho + [estado]))\n",
        "\n",
        "    return None\n",
        "\n",
        "# Executando o algoritmo\n",
        "solucao = busca_fazendeiro()\n",
        "\n",
        "if solucao:\n",
        "    for passo, estado in enumerate(solucao):\n",
        "        print(f\"Passo {passo}: {estado}\")\n",
        "else:\n",
        "    print(\"Nenhuma solução encontrada.\")"
      ],
      "metadata": {
        "id": "D2Ib6JmvYjKB"
      },
      "execution_count": null,
      "outputs": []
    },
    {
      "cell_type": "code",
      "execution_count": null,
      "metadata": {
        "id": "ORJbend3UnOD"
      },
      "outputs": [],
      "source": []
    },
    {
      "cell_type": "markdown",
      "source": [],
      "metadata": {
        "id": "QrK5ic8AeRVi"
      }
    },
    {
      "cell_type": "markdown",
      "source": [
        "Crie uma representação do espaço de estados para o problema do quebra-cabeça de 8 peças. O problema consiste em mover peças do quebra-cabeça na horizontal ou vertical, de modo que a configuração final seja alcançada. Os movimentos realizados devem fazer com que a peça em questão ocupe a posição vazia adjacente à ela. Os movimentos devem ser sequencialmente realizados modo que a configuração final seja alcançada. Após criar a representação do espaço de estados, crie um algoritmo de busca para solucionar o problema."
      ],
      "metadata": {
        "id": "zxYs3nbfYmjf"
      }
    },
    {
      "cell_type": "code",
      "source": [
        "from collections import deque\n",
        "import copy\n",
        "\n",
        "# Representação do estado inicial e do estado objetivo\n",
        "estado_inicial = [[1, 2, 3], [4, 0, 5], [6, 7, 8]]  # 0 representa o espaço vazio\n",
        "estado_objetivo = [[1, 2, 3], [4, 5, 6], [7, 8, 0]]\n",
        "\n",
        "def encontrar_posicao(estado, valor):\n",
        "    \"\"\"Encontra a posição (linha, coluna) de um valor no estado.\"\"\"\n",
        "    for i in range(3):\n",
        "        for j in range(3):\n",
        "            if estado[i][j] == valor:\n",
        "                return i, j\n",
        "\n",
        "def gerar_sucessores(estado):\n",
        "    \"\"\"Gera os estados sucessores movendo o espaço vazio.\"\"\"\n",
        "    sucessores = []\n",
        "    x, y = encontrar_posicao(estado, 0)  # Encontra posição do espaço vazio\n",
        "    movimentos = [(-1, 0), (1, 0), (0, -1), (0, 1)]  # Cima, Baixo, Esquerda, Direita\n",
        "\n",
        "    for dx, dy in movimentos:\n",
        "        novo_x, novo_y = x + dx, y + dy\n",
        "        if 0 <= novo_x < 3 and 0 <= novo_y < 3:\n",
        "            novo_estado = copy.deepcopy(estado)\n",
        "            novo_estado[x][y], novo_estado[novo_x][novo_y] = novo_estado[novo_x][novo_y], novo_estado[x][y]\n",
        "            sucessores.append(novo_estado)\n",
        "\n",
        "    return sucessores\n",
        "\n",
        "def busca_quebra_cabeca():\n",
        "    \"\"\"Executa a busca em largura para resolver o quebra-cabeça.\"\"\"\n",
        "    fila = deque([(estado_inicial, [])])  # Estado inicial e caminho percorrido\n",
        "    visitados = set()\n",
        "\n",
        "    while fila:\n",
        "        estado, caminho = fila.popleft()\n",
        "\n",
        "        if estado == estado_objetivo:\n",
        "            return caminho + [estado]\n",
        "\n",
        "        estado_tupla = tuple(map(tuple, estado))\n",
        "        if estado_tupla not in visitados:\n",
        "            visitados.add(estado_tupla)\n",
        "\n",
        "            for successor in gerar_sucessores(estado):\n",
        "                fila.append((successor, caminho + [estado]))\n",
        "\n",
        "    return None\n",
        "\n",
        "# Executando o algoritmo\n",
        "solucao = busca_quebra_cabeca()\n",
        "\n",
        "if solucao:\n",
        "    for passo, estado in enumerate(solucao):\n",
        "        print(f\"Passo {passo}:\")\n",
        "        for linha in estado:\n",
        "            print(linha)\n",
        "        print()\n",
        "else:\n",
        "    print(\"Nenhuma solução encontrada.\")"
      ],
      "metadata": {
        "id": "IyB_Ci2oYqex"
      },
      "execution_count": null,
      "outputs": []
    },
    {
      "cell_type": "markdown",
      "source": [],
      "metadata": {
        "id": "BXq50rN0eUaB"
      }
    },
    {
      "cell_type": "markdown",
      "source": [],
      "metadata": {
        "id": "an1weutneX7b"
      }
    },
    {
      "cell_type": "markdown",
      "source": [
        "Implemente a busca A*para o problema path findingutilizando distância Euclideana. O mapa deve ser representado por uma matriz M x Ne deve ser estabelecido o ponto de partida e o ponto de destino. Além disso, no caminho podem existir obstáculos que devem ser desviados. Para a heurística, considere as ações de movimentos laterais com o custo de 10 e as ações de movimentos na diagonal com custo de 14.\n",
        "\n",
        "70 66 62 58 54 50\n",
        "66 56 52 48 44 40\n",
        "62 52 42 38 34 30\n",
        "58 48 38 28 24 20\n",
        "54 44 34 24 14 10\n",
        "50 40 30 20 10 0\n",
        "Origem 70\n",
        "Destino 0\n",
        "Obstáculo 28\n",
        "Caminho 56, 42, 38, 34,24, 10\n"
      ],
      "metadata": {
        "id": "bCP12yFoedZR"
      }
    },
    {
      "cell_type": "code",
      "source": [
        "import heapq\n",
        "import math\n",
        "\n",
        "def distancia_euclidiana(a, b):\n",
        "    return math.sqrt((a[0] - b[0])**2 + (a[1] - b[1])**2)\n",
        "\n",
        "def busca_a_estrela(matriz, inicio, destino, obstaculos):\n",
        "    movimentos = [\n",
        "        (-1, 0, 10), (1, 0, 10), (0, -1, 10), (0, 1, 10),  # Laterais\n",
        "        (-1, -1, 14), (-1, 1, 14), (1, -1, 14), (1, 1, 14)  # Diagonais\n",
        "    ]\n",
        "\n",
        "    fila_prioridade = []\n",
        "    heapq.heappush(fila_prioridade, (0, 0, inicio, [inicio]))\n",
        "    visitados = set()\n",
        "\n",
        "    while fila_prioridade:\n",
        "        _, custo, atual, caminho = heapq.heappop(fila_prioridade)\n",
        "\n",
        "        if atual == destino:\n",
        "            return caminho\n",
        "\n",
        "        if atual in visitados:\n",
        "            continue\n",
        "\n",
        "        visitados.add(atual)\n",
        "\n",
        "        for mov in movimentos:\n",
        "            novo_x, novo_y = atual[0] + mov[0], atual[1] + mov[1]\n",
        "            novo_ponto = (novo_x, novo_y)\n",
        "\n",
        "            if 0 <= novo_x < len(matriz) and 0 <= novo_y < len(matriz[0]) and novo_ponto not in obstaculos:\n",
        "                novo_custo = custo + mov[2]\n",
        "                f_n = novo_custo + distancia_euclidiana(novo_ponto, destino)\n",
        "                heapq.heappush(fila_prioridade, (f_n, novo_custo, novo_ponto, caminho + [novo_ponto]))\n",
        "\n",
        "    return None\n",
        "\n",
        "# Matriz exemplo (6x6)\n",
        "matriz = [\n",
        "    [70, 66, 62, 58, 54, 50],\n",
        "    [66, 56, 52, 48, 44, 40],\n",
        "    [62, 52, 42, 38, 34, 30],\n",
        "    [58, 48, 38, 28, 24, 20],\n",
        "    [54, 44, 34, 24, 14, 10],\n",
        "    [50, 40, 30, 20, 10, 0]\n",
        "]\n",
        "\n",
        "inicio = (0, 0)\n",
        "destino = (5, 5)\n",
        "obstaculos = {(2, 2), (3, 3), (4, 4)}  # Exemplo de obstáculos\n",
        "\n",
        "caminho = busca_a_estrela(matriz, inicio, destino, obstaculos)\n",
        "\n",
        "if caminho:\n",
        "    print(\"Caminho encontrado:\", caminho)\n",
        "else:\n",
        "    print(\"Nenhuma solução encontrada.\")\n"
      ],
      "metadata": {
        "id": "VAvY0RYDfQFh",
        "colab": {
          "base_uri": "https://localhost:8080/"
        },
        "outputId": "8f923895-013a-4ac9-e00a-08825e3c091f"
      },
      "execution_count": null,
      "outputs": [
        {
          "output_type": "stream",
          "name": "stdout",
          "text": [
            "Caminho encontrado: [(0, 0), (0, 1), (1, 2), (2, 3), (3, 4), (4, 5), (5, 5)]\n"
          ]
        }
      ]
    },
    {
      "cell_type": "markdown",
      "source": [
        "Implemente um algoritmo de busca gulosa para problema de deslocamento pelo mapa da Romênia. O objetivo do problema é ir de Arad até Bucharest no menor caminho possível. Além disso, o algoritmo deve visitar o menor número possível de estados candidatos."
      ],
      "metadata": {
        "id": "2G8kxo2hY-B3"
      }
    },
    {
      "cell_type": "code",
      "source": [
        "import heapq\n",
        "\n",
        "# Mapa das cidades da Romênia e suas distâncias diretas para Bucharest (heurística)\n",
        "heuristica = {\n",
        "    'Arad': 366, 'Bucharest': 0, 'Craiova': 160, 'Drobeta': 242,\n",
        "    'Eforie': 161, 'Fagaras': 176, 'Giurgiu': 77, 'Hirsova': 151,\n",
        "    'Iasi': 226, 'Lugoj': 244, 'Mehadia': 241, 'Neamt': 234,\n",
        "    'Oradea': 380, 'Pitesti': 100, 'Rimnicu Vilcea': 193,\n",
        "    'Sibiu': 253, 'Timisoara': 329, 'Urziceni': 80, 'Vaslui': 199,\n",
        "    'Zerind': 374\n",
        "}\n",
        "\n",
        "# Grafo das conexões entre as cidades\n",
        "mapa_romenia = {\n",
        "    'Arad': ['Zerind', 'Timisoara', 'Sibiu'],\n",
        "    'Zerind': ['Arad', 'Oradea'],\n",
        "    'Oradea': ['Zerind', 'Sibiu'],\n",
        "    'Timisoara': ['Arad', 'Lugoj'],\n",
        "    'Lugoj': ['Timisoara', 'Mehadia'],\n",
        "    'Mehadia': ['Lugoj', 'Drobeta'],\n",
        "    'Drobeta': ['Mehadia', 'Craiova'],\n",
        "    'Craiova': ['Drobeta', 'Pitesti', 'Rimnicu Vilcea'],\n",
        "    'Sibiu': ['Arad', 'Oradea', 'Fagaras', 'Rimnicu Vilcea'],\n",
        "    'Fagaras': ['Sibiu', 'Bucharest'],\n",
        "    'Rimnicu Vilcea': ['Sibiu', 'Craiova', 'Pitesti'],\n",
        "    'Pitesti': ['Rimnicu Vilcea', 'Craiova', 'Bucharest'],\n",
        "    'Bucharest': ['Fagaras', 'Pitesti', 'Giurgiu', 'Urziceni'],\n",
        "    'Giurgiu': ['Bucharest'],\n",
        "    'Urziceni': ['Bucharest', 'Vaslui', 'Hirsova'],\n",
        "    'Hirsova': ['Urziceni', 'Eforie'],\n",
        "    'Eforie': ['Hirsova'],\n",
        "    'Vaslui': ['Urziceni', 'Iasi'],\n",
        "    'Iasi': ['Vaslui', 'Neamt'],\n",
        "    'Neamt': ['Iasi']\n",
        "}\n",
        "\n",
        "def busca_gulosa(inicio, objetivo):\n",
        "    fila_prioridade = []\n",
        "    heapq.heappush(fila_prioridade, (heuristica[inicio], [inicio]))  # (heurística, caminho percorrido)\n",
        "    visitados = set()\n",
        "\n",
        "    while fila_prioridade:\n",
        "        _, caminho = heapq.heappop(fila_prioridade)\n",
        "        atual = caminho[-1]\n",
        "\n",
        "        if atual == objetivo:\n",
        "            return caminho\n",
        "\n",
        "        if atual not in visitados:\n",
        "            visitados.add(atual)\n",
        "\n",
        "            for vizinho in mapa_romenia[atual]:\n",
        "                if vizinho not in visitados:\n",
        "                    novo_caminho = caminho + [vizinho]\n",
        "                    heapq.heappush(fila_prioridade, (heuristica[vizinho], novo_caminho))\n",
        "\n",
        "    return None\n",
        "\n",
        "# Executando a busca gulosa\n",
        "deslocamento = busca_gulosa('Arad', 'Bucharest')\n",
        "\n",
        "if deslocamento:\n",
        "    print(\"Caminho encontrado:\")\n",
        "    print(\" -> \".join(deslocamento))\n",
        "else:\n",
        "    print(\"Nenhuma solução encontrada.\")\n"
      ],
      "metadata": {
        "id": "bNQagzAFZCdf",
        "colab": {
          "base_uri": "https://localhost:8080/"
        },
        "outputId": "cedc9e40-dd83-45ff-fc1b-a7c333d91b5e"
      },
      "execution_count": null,
      "outputs": [
        {
          "output_type": "stream",
          "name": "stdout",
          "text": [
            "Caminho encontrado:\n",
            "Arad -> Sibiu -> Fagaras -> Bucharest\n"
          ]
        }
      ]
    },
    {
      "cell_type": "markdown",
      "source": [
        "Implemente um algoritmo de busca A*para problema de deslocamento pelo mapa da Romênia. O objetivo do problema é ir de Arad até Bucharest no menor caminho possível. Além disso, o algoritmo deve visitar o menor número possível de estados candidatos."
      ],
      "metadata": {
        "id": "pldwbauiZdN-"
      }
    },
    {
      "cell_type": "code",
      "source": [
        "import heapq\n",
        "\n",
        "# Mapa das cidades da Romênia e suas distâncias diretas para Bucharest (heurística)\n",
        "heuristica = {\n",
        "    'Arad': 366, 'Bucharest': 0, 'Craiova': 160, 'Drobeta': 242,\n",
        "    'Eforie': 161, 'Fagaras': 176, 'Giurgiu': 77, 'Hirsova': 151,\n",
        "    'Iasi': 226, 'Lugoj': 244, 'Mehadia': 241, 'Neamt': 234,\n",
        "    'Oradea': 380, 'Pitesti': 100, 'Rimnicu Vilcea': 193,\n",
        "    'Sibiu': 253, 'Timisoara': 329, 'Urziceni': 80, 'Vaslui': 199,\n",
        "    'Zerind': 374\n",
        "}\n",
        "\n",
        "# Grafo das conexões entre as cidades com distâncias reais\n",
        "mapa_romenia = {\n",
        "    'Arad': {'Zerind': 75, 'Timisoara': 118, 'Sibiu': 140},\n",
        "    'Zerind': {'Arad': 75, 'Oradea': 71},\n",
        "    'Oradea': {'Zerind': 71, 'Sibiu': 151},\n",
        "    'Timisoara': {'Arad': 118, 'Lugoj': 111},\n",
        "    'Lugoj': {'Timisoara': 111, 'Mehadia': 70},\n",
        "    'Mehadia': {'Lugoj': 70, 'Drobeta': 75},\n",
        "    'Drobeta': {'Mehadia': 75, 'Craiova': 120},\n",
        "    'Craiova': {'Drobeta': 120, 'Pitesti': 138, 'Rimnicu Vilcea': 146},\n",
        "    'Sibiu': {'Arad': 140, 'Oradea': 151, 'Fagaras': 99, 'Rimnicu Vilcea': 80},\n",
        "    'Fagaras': {'Sibiu': 99, 'Bucharest': 211},\n",
        "    'Rimnicu Vilcea': {'Sibiu': 80, 'Craiova': 146, 'Pitesti': 97},\n",
        "    'Pitesti': {'Rimnicu Vilcea': 97, 'Craiova': 138, 'Bucharest': 101},\n",
        "    'Bucharest': {'Fagaras': 211, 'Pitesti': 101, 'Giurgiu': 90, 'Urziceni': 85},\n",
        "    'Giurgiu': {'Bucharest': 90},\n",
        "    'Urziceni': {'Bucharest': 85, 'Vaslui': 142, 'Hirsova': 98},\n",
        "    'Hirsova': {'Urziceni': 98, 'Eforie': 86},\n",
        "    'Eforie': {'Hirsova': 86},\n",
        "    'Vaslui': {'Urziceni': 142, 'Iasi': 92},\n",
        "    'Iasi': {'Vaslui': 92, 'Neamt': 87},\n",
        "    'Neamt': {'Iasi': 87}\n",
        "}\n",
        "\n",
        "def busca_a_estrela(inicio, objetivo):\n",
        "    fila_prioridade = []\n",
        "    heapq.heappush(fila_prioridade, (heuristica[inicio], 0, [inicio]))  # (f(n), g(n), caminho percorrido)\n",
        "    visitados = set()\n",
        "\n",
        "    while fila_prioridade:\n",
        "        _, custo, caminho = heapq.heappop(fila_prioridade)\n",
        "        atual = caminho[-1]\n",
        "\n",
        "        if atual == objetivo:\n",
        "            return caminho\n",
        "\n",
        "        if atual not in visitados:\n",
        "            visitados.add(atual)\n",
        "\n",
        "            for vizinho, distancia in mapa_romenia[atual].items():\n",
        "                if vizinho not in visitados:\n",
        "                    novo_custo = custo + distancia\n",
        "                    f_n = novo_custo + heuristica[vizinho]\n",
        "                    heapq.heappush(fila_prioridade, (f_n, novo_custo, caminho + [vizinho]))\n",
        "\n",
        "    return None\n",
        "\n",
        "# Executando a busca A*\n",
        "deslocamento = busca_a_estrela('Arad', 'Bucharest')\n",
        "\n",
        "if deslocamento:\n",
        "    print(\"Caminho encontrado:\")\n",
        "    print(\" -> \".join(deslocamento))\n",
        "else:\n",
        "    print(\"Nenhuma solução encontrada.\")\n"
      ],
      "metadata": {
        "id": "eTzXkPwCZ3nk",
        "colab": {
          "base_uri": "https://localhost:8080/"
        },
        "outputId": "397cac7a-773b-4722-85af-94a43517504e"
      },
      "execution_count": null,
      "outputs": [
        {
          "output_type": "stream",
          "name": "stdout",
          "text": [
            "Caminho encontrado:\n",
            "Arad -> Sibiu -> Rimnicu Vilcea -> Pitesti -> Bucharest\n"
          ]
        }
      ]
    },
    {
      "cell_type": "markdown",
      "source": [
        "7.\n",
        "Implemente a busca A*para o problema path findingutilizando distância Euclideana. O mapa deve ser representado por uma matriz M x Ne deve ser estabelecido o ponto de partida e o ponto de destino. Além disso, no caminho podem existir obstáculos que devem ser desviados. Para a heurística, considere as ações de movimentos laterais com o custo de 10 e as ações de movimentos na diagonal com custo de 14."
      ],
      "metadata": {
        "id": "0B73GSTVt1E4"
      }
    },
    {
      "cell_type": "code",
      "source": [],
      "metadata": {
        "id": "Ylwk7ZCFt3Ff"
      },
      "execution_count": null,
      "outputs": []
    },
    {
      "cell_type": "code",
      "source": [
        "import math\n",
        "from queue import PriorityQueue\n",
        "\n",
        "# Definição dos movimentos possíveis (laterais e diagonais)\n",
        "movimentos = [\n",
        "    (1, 0, 10),   # Direita\n",
        "    (-1, 0, 10),  # Esquerda\n",
        "    (0, 1, 10),   # Baixo\n",
        "    (0, -1, 10),  # Cima\n",
        "    (1, 1, 14),   # Diagonal inferior direita\n",
        "    (1, -1, 14),  # Diagonal superior direita\n",
        "    (-1, 1, 14),  # Diagonal inferior esquerda\n",
        "    (-1, -1, 14)  # Diagonal superior esquerda\n",
        "]\n",
        "\n",
        "# Função para calcular a distância euclidiana (heurística)\n",
        "def distancia_euclidiana(ponto1, ponto2):\n",
        "    x1, y1 = ponto1\n",
        "    x2, y2 = ponto2\n",
        "    return math.sqrt((x1 - x2) ** 2 + (y1 - y2) ** 2)\n",
        "\n",
        "# Função de busca A*\n",
        "def busca_a_estrela(mapa, inicio, destino):\n",
        "    linhas, colunas = len(mapa), len(mapa[0])\n",
        "\n",
        "    # Função para verificar se uma célula é válida\n",
        "    def celula_valida(x, y):\n",
        "        return 0 <= x < linhas and 0 <= y < colunas and mapa[x][y] == 0\n",
        "\n",
        "    # Inicialização\n",
        "    fila_prioridade = PriorityQueue()\n",
        "    fila_prioridade.put((0, inicio))  # (f = g + h, (x, y))\n",
        "    custo_acumulado = {inicio: 0}  # Custo real do caminho até o momento (g)\n",
        "    caminho = {inicio: None}  # Para reconstruir o caminho final\n",
        "\n",
        "    while not fila_prioridade.empty():\n",
        "        _, (x, y) = fila_prioridade.get()\n",
        "\n",
        "        if (x, y) == destino:\n",
        "            break  # Objetivo alcançado\n",
        "\n",
        "        for dx, dy, custo in movimentos:\n",
        "            novo_x, novo_y = x + dx, y + dy\n",
        "            if celula_valida(novo_x, novo_y):\n",
        "                novo_custo = custo_acumulado[(x, y)] + custo  # g(novo) = g(atual) + custo\n",
        "                if (novo_x, novo_y) not in custo_acumulado or novo_custo < custo_acumulado[(novo_x, novo_y)]:\n",
        "                    custo_acumulado[(novo_x, novo_y)] = novo_custo\n",
        "                    prioridade = novo_custo + distancia_euclidiana((novo_x, novo_y), destino)  # f(novo) = g(novo) + h(novo)\n",
        "                    fila_prioridade.put((prioridade, (novo_x, novo_y)))\n",
        "                    caminho[(novo_x, novo_y)] = (x, y)\n",
        "\n",
        "    # Reconstruir o caminho\n",
        "    caminho_final = []\n",
        "    ponto = destino\n",
        "    while ponto is not None:\n",
        "        caminho_final.append(ponto)\n",
        "        ponto = caminho[ponto]\n",
        "    caminho_final.reverse()\n",
        "\n",
        "    return caminho_final, custo_acumulado.get(destino, float('inf'))\n",
        "\n",
        "# Exemplo de mapa (0 = caminho livre, 1 = obstáculo)\n",
        "mapa = [\n",
        "    [0, 0, 0, 0, 0, 0],\n",
        "    [0, 1, 1, 1, 1, 0],\n",
        "    [0, 0, 0, 0, 1, 0],\n",
        "    [0, 1, 1, 0, 1, 0],\n",
        "    [0, 0, 0, 0, 0, 0]\n",
        "]\n",
        "\n",
        "# Ponto de partida e destino\n",
        "inicio = (0, 0)\n",
        "destino = (4, 5)\n",
        "\n",
        "# Executando a busca A*\n",
        "caminho, custo_total = busca_a_estrela(mapa, inicio, destino)\n",
        "\n",
        "# Exibindo o resultado\n",
        "if caminho:\n",
        "    print(\"Caminho encontrado:\")\n",
        "    for x, y in caminho:\n",
        "        print(f\"({x}, {y})\")\n",
        "    print(f\"Custo total do caminho: {custo_total}\")\n",
        "else:\n",
        "    print(\"Nenhum caminho encontrado.\")"
      ],
      "metadata": {
        "colab": {
          "base_uri": "https://localhost:8080/"
        },
        "id": "VqTPaI7g9RyA",
        "outputId": "73af2f9c-66bd-4039-dbdf-ec81e95db3c2"
      },
      "execution_count": null,
      "outputs": [
        {
          "output_type": "stream",
          "name": "stdout",
          "text": [
            "Caminho encontrado:\n",
            "(0, 0)\n",
            "(1, 0)\n",
            "(2, 1)\n",
            "(2, 2)\n",
            "(3, 3)\n",
            "(4, 4)\n",
            "(4, 5)\n",
            "Custo total do caminho: 72\n"
          ]
        }
      ]
    }
  ]
}